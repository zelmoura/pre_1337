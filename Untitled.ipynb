{
 "cells": [
  {
   "cell_type": "code",
   "execution_count": 49,
   "id": "fd1d38bf",
   "metadata": {},
   "outputs": [
    {
     "data": {
      "text/html": [
       "<div>\n",
       "<style scoped>\n",
       "    .dataframe tbody tr th:only-of-type {\n",
       "        vertical-align: middle;\n",
       "    }\n",
       "\n",
       "    .dataframe tbody tr th {\n",
       "        vertical-align: top;\n",
       "    }\n",
       "\n",
       "    .dataframe thead th {\n",
       "        text-align: right;\n",
       "    }\n",
       "</style>\n",
       "<table border=\"1\" class=\"dataframe\">\n",
       "  <thead>\n",
       "    <tr style=\"text-align: right;\">\n",
       "      <th></th>\n",
       "      <th>Average</th>\n",
       "      <th>P.Average</th>\n",
       "      <th>Frequency</th>\n",
       "      <th>Prefrc.T</th>\n",
       "      <th>Prefc.C</th>\n",
       "      <th>Floor</th>\n",
       "    </tr>\n",
       "  </thead>\n",
       "  <tbody>\n",
       "    <tr>\n",
       "      <th>0</th>\n",
       "      <td>morning</td>\n",
       "      <td>plus10h</td>\n",
       "      <td>6-8h</td>\n",
       "      <td>everyday</td>\n",
       "      <td>desktop</td>\n",
       "      <td>e2</td>\n",
       "    </tr>\n",
       "    <tr>\n",
       "      <th>1</th>\n",
       "      <td>afternoon</td>\n",
       "      <td>2-6h</td>\n",
       "      <td>2-4h</td>\n",
       "      <td>week-end</td>\n",
       "      <td>laptop</td>\n",
       "      <td>e1</td>\n",
       "    </tr>\n",
       "    <tr>\n",
       "      <th>2</th>\n",
       "      <td>morning</td>\n",
       "      <td>6-10h</td>\n",
       "      <td>plus8h</td>\n",
       "      <td>week-end</td>\n",
       "      <td>laptop</td>\n",
       "      <td>e1</td>\n",
       "    </tr>\n",
       "    <tr>\n",
       "      <th>3</th>\n",
       "      <td>afternoon</td>\n",
       "      <td>plus10h</td>\n",
       "      <td>plus8h</td>\n",
       "      <td>everyday</td>\n",
       "      <td>desktop</td>\n",
       "      <td>e2</td>\n",
       "    </tr>\n",
       "    <tr>\n",
       "      <th>4</th>\n",
       "      <td>morning</td>\n",
       "      <td>6-10h</td>\n",
       "      <td>2-4h</td>\n",
       "      <td>week-end</td>\n",
       "      <td>laptop</td>\n",
       "      <td>e2</td>\n",
       "    </tr>\n",
       "  </tbody>\n",
       "</table>\n",
       "</div>"
      ],
      "text/plain": [
       "     Average P.Average Frequency  Prefrc.T  Prefc.C Floor\n",
       "0    morning   plus10h      6-8h  everyday  desktop    e2\n",
       "1  afternoon      2-6h      2-4h  week-end   laptop    e1\n",
       "2    morning     6-10h    plus8h  week-end   laptop    e1\n",
       "3  afternoon   plus10h    plus8h  everyday  desktop    e2\n",
       "4    morning     6-10h      2-4h  week-end   laptop    e2"
      ]
     },
     "execution_count": 49,
     "metadata": {},
     "output_type": "execute_result"
    }
   ],
   "source": [
    "import pandas as pd\n",
    "\n",
    "# Read CSV file into a Pandas DataFrame\n",
    "df = pd.read_csv('data.csv', delimiter=';')\n",
    "\n",
    "# Print the first 5 rows of the DataFrame\n",
    "df.head()"
   ]
  },
  {
   "cell_type": "code",
   "execution_count": 50,
   "id": "25018204",
   "metadata": {},
   "outputs": [
    {
     "data": {
      "text/html": [
       "<div>\n",
       "<style scoped>\n",
       "    .dataframe tbody tr th:only-of-type {\n",
       "        vertical-align: middle;\n",
       "    }\n",
       "\n",
       "    .dataframe tbody tr th {\n",
       "        vertical-align: top;\n",
       "    }\n",
       "\n",
       "    .dataframe thead th {\n",
       "        text-align: right;\n",
       "    }\n",
       "</style>\n",
       "<table border=\"1\" class=\"dataframe\">\n",
       "  <thead>\n",
       "    <tr style=\"text-align: right;\">\n",
       "      <th></th>\n",
       "      <th>av</th>\n",
       "      <th>P_av</th>\n",
       "      <th>fre</th>\n",
       "      <th>pre_t</th>\n",
       "      <th>pre_c</th>\n",
       "      <th>target</th>\n",
       "    </tr>\n",
       "  </thead>\n",
       "  <tbody>\n",
       "    <tr>\n",
       "      <th>0</th>\n",
       "      <td>morning</td>\n",
       "      <td>plus10h</td>\n",
       "      <td>6-8h</td>\n",
       "      <td>everyday</td>\n",
       "      <td>desktop</td>\n",
       "      <td>e2</td>\n",
       "    </tr>\n",
       "    <tr>\n",
       "      <th>1</th>\n",
       "      <td>afternoon</td>\n",
       "      <td>2-6h</td>\n",
       "      <td>2-4h</td>\n",
       "      <td>week-end</td>\n",
       "      <td>laptop</td>\n",
       "      <td>e1</td>\n",
       "    </tr>\n",
       "    <tr>\n",
       "      <th>2</th>\n",
       "      <td>morning</td>\n",
       "      <td>6-10h</td>\n",
       "      <td>plus8h</td>\n",
       "      <td>week-end</td>\n",
       "      <td>laptop</td>\n",
       "      <td>e1</td>\n",
       "    </tr>\n",
       "    <tr>\n",
       "      <th>3</th>\n",
       "      <td>afternoon</td>\n",
       "      <td>plus10h</td>\n",
       "      <td>plus8h</td>\n",
       "      <td>everyday</td>\n",
       "      <td>desktop</td>\n",
       "      <td>e2</td>\n",
       "    </tr>\n",
       "    <tr>\n",
       "      <th>4</th>\n",
       "      <td>morning</td>\n",
       "      <td>6-10h</td>\n",
       "      <td>2-4h</td>\n",
       "      <td>week-end</td>\n",
       "      <td>laptop</td>\n",
       "      <td>e2</td>\n",
       "    </tr>\n",
       "    <tr>\n",
       "      <th>...</th>\n",
       "      <td>...</td>\n",
       "      <td>...</td>\n",
       "      <td>...</td>\n",
       "      <td>...</td>\n",
       "      <td>...</td>\n",
       "      <td>...</td>\n",
       "    </tr>\n",
       "    <tr>\n",
       "      <th>295</th>\n",
       "      <td>afternoon</td>\n",
       "      <td>6-10h</td>\n",
       "      <td>6-8h</td>\n",
       "      <td>everyday</td>\n",
       "      <td>desktop</td>\n",
       "      <td>e3</td>\n",
       "    </tr>\n",
       "    <tr>\n",
       "      <th>296</th>\n",
       "      <td>morning</td>\n",
       "      <td>6-10h</td>\n",
       "      <td>plus8h</td>\n",
       "      <td>everyday</td>\n",
       "      <td>desktop</td>\n",
       "      <td>e3</td>\n",
       "    </tr>\n",
       "    <tr>\n",
       "      <th>297</th>\n",
       "      <td>afternoon</td>\n",
       "      <td>plus10h</td>\n",
       "      <td>plus8h</td>\n",
       "      <td>everyday</td>\n",
       "      <td>desktop</td>\n",
       "      <td>e3</td>\n",
       "    </tr>\n",
       "    <tr>\n",
       "      <th>298</th>\n",
       "      <td>morning</td>\n",
       "      <td>plus10h</td>\n",
       "      <td>plus8h</td>\n",
       "      <td>everyday</td>\n",
       "      <td>desktop</td>\n",
       "      <td>e2</td>\n",
       "    </tr>\n",
       "    <tr>\n",
       "      <th>299</th>\n",
       "      <td>afternoon</td>\n",
       "      <td>6-10h</td>\n",
       "      <td>2-4h</td>\n",
       "      <td>everyday</td>\n",
       "      <td>desktop</td>\n",
       "      <td>e3</td>\n",
       "    </tr>\n",
       "  </tbody>\n",
       "</table>\n",
       "<p>300 rows × 6 columns</p>\n",
       "</div>"
      ],
      "text/plain": [
       "            av     P_av     fre     pre_t    pre_c target\n",
       "0      morning  plus10h    6-8h  everyday  desktop     e2\n",
       "1    afternoon     2-6h    2-4h  week-end   laptop     e1\n",
       "2      morning    6-10h  plus8h  week-end   laptop     e1\n",
       "3    afternoon  plus10h  plus8h  everyday  desktop     e2\n",
       "4      morning    6-10h    2-4h  week-end   laptop     e2\n",
       "..         ...      ...     ...       ...      ...    ...\n",
       "295  afternoon    6-10h    6-8h  everyday  desktop     e3\n",
       "296    morning    6-10h  plus8h  everyday  desktop     e3\n",
       "297  afternoon  plus10h  plus8h  everyday  desktop     e3\n",
       "298    morning  plus10h  plus8h  everyday  desktop     e2\n",
       "299  afternoon    6-10h    2-4h  everyday  desktop     e3\n",
       "\n",
       "[300 rows x 6 columns]"
      ]
     },
     "execution_count": 50,
     "metadata": {},
     "output_type": "execute_result"
    }
   ],
   "source": [
    "nouveaux_noms = ['av', 'P_av', 'fre', 'pre_t', 'pre_c', 'target']\n",
    "df.columns = nouveaux_noms\n",
    "df"
   ]
  },
  {
   "cell_type": "code",
   "execution_count": 51,
   "id": "46017e38",
   "metadata": {},
   "outputs": [
    {
     "name": "stdout",
     "output_type": "stream",
     "text": [
      "     av     P_av     fre     pre_t    pre_c target\n",
      "0     1  plus10h    6-8h  everyday  desktop     e2\n",
      "1     2     2-6h    2-4h  week-end   laptop     e1\n",
      "2     1    6-10h  plus8h  week-end   laptop     e1\n",
      "3     2  plus10h  plus8h  everyday  desktop     e2\n",
      "4     1    6-10h    2-4h  week-end   laptop     e2\n",
      "..   ..      ...     ...       ...      ...    ...\n",
      "295   2    6-10h    6-8h  everyday  desktop     e3\n",
      "296   1    6-10h  plus8h  everyday  desktop     e3\n",
      "297   2  plus10h  plus8h  everyday  desktop     e3\n",
      "298   1  plus10h  plus8h  everyday  desktop     e2\n",
      "299   2    6-10h    2-4h  everyday  desktop     e3\n",
      "\n",
      "[300 rows x 6 columns]\n"
     ]
    }
   ],
   "source": [
    "data = {'av': ['morning', 'afternoon', 'evening']}\n",
    "\n",
    "# Create a mapping dictionary to map categories to integers\n",
    "mapping = {'morning': 1, 'afternoon': 2, 'evening': 3}\n",
    "\n",
    "# Use map() function to replace categories with integers\n",
    "df['av'] = df['av'].map(mapping)\n",
    "\n",
    "print(df)"
   ]
  },
  {
   "cell_type": "code",
   "execution_count": 52,
   "id": "bacf16e3",
   "metadata": {},
   "outputs": [
    {
     "name": "stdout",
     "output_type": "stream",
     "text": [
      "     av  P_av     fre     pre_t    pre_c target\n",
      "0     1     2    6-8h  everyday  desktop     e2\n",
      "1     2     0    2-4h  week-end   laptop     e1\n",
      "2     1     1  plus8h  week-end   laptop     e1\n",
      "3     2     2  plus8h  everyday  desktop     e2\n",
      "4     1     1    2-4h  week-end   laptop     e2\n",
      "..   ..   ...     ...       ...      ...    ...\n",
      "295   2     1    6-8h  everyday  desktop     e3\n",
      "296   1     1  plus8h  everyday  desktop     e3\n",
      "297   2     2  plus8h  everyday  desktop     e3\n",
      "298   1     2  plus8h  everyday  desktop     e2\n",
      "299   2     1    2-4h  everyday  desktop     e3\n",
      "\n",
      "[300 rows x 6 columns]\n"
     ]
    }
   ],
   "source": [
    "#data = {'P_av': ['2-4h', '4-6h', '6-8h', 'plus8h']}\n",
    "\n",
    "# Create a mapping dictionary to map categories to integers\n",
    "#mapping = {'2-4h': 0, '4-6h': 1, '6-8h': 2,'plus8h':3}\n",
    "mapping = {'2-6h': 0, '6-10h': 1, 'plus10h': 2}\n",
    "# Use map() function to replace categories with integers\n",
    "df['P_av'] = df['P_av'].map(mapping)\n",
    "\n",
    "print(df)\n"
   ]
  },
  {
   "cell_type": "code",
   "execution_count": 53,
   "id": "f6bc811b",
   "metadata": {},
   "outputs": [
    {
     "name": "stdout",
     "output_type": "stream",
     "text": [
      "     av  P_av  fre     pre_t    pre_c target\n",
      "0     1     2    2  everyday  desktop     e2\n",
      "1     2     0    0  week-end   laptop     e1\n",
      "2     1     1    3  week-end   laptop     e1\n",
      "3     2     2    3  everyday  desktop     e2\n",
      "4     1     1    0  week-end   laptop     e2\n",
      "..   ..   ...  ...       ...      ...    ...\n",
      "295   2     1    2  everyday  desktop     e3\n",
      "296   1     1    3  everyday  desktop     e3\n",
      "297   2     2    3  everyday  desktop     e3\n",
      "298   1     2    3  everyday  desktop     e2\n",
      "299   2     1    0  everyday  desktop     e3\n",
      "\n",
      "[300 rows x 6 columns]\n"
     ]
    }
   ],
   "source": [
    "#data = {'P_av': ['2-4h', '4-6h', '6-8h', 'plus8h']}\n",
    "\n",
    "# Create a mapping dictionary to map categories to integers\n",
    "mapping = {'2-4h': 0, '4-6h': 1, '6-8h': 2,'plus8h':3}\n",
    "# Use map() function to replace categories with integers\n",
    "df['fre'] = df['fre'].map(mapping)\n",
    "\n",
    "print(df)\n"
   ]
  },
  {
   "cell_type": "code",
   "execution_count": 54,
   "id": "5f741178",
   "metadata": {},
   "outputs": [
    {
     "name": "stdout",
     "output_type": "stream",
     "text": [
      "     av  P_av  fre  pre_t    pre_c target\n",
      "0     1     2    2      0  desktop     e2\n",
      "1     2     0    0      1   laptop     e1\n",
      "2     1     1    3      1   laptop     e1\n",
      "3     2     2    3      0  desktop     e2\n",
      "4     1     1    0      1   laptop     e2\n",
      "..   ..   ...  ...    ...      ...    ...\n",
      "295   2     1    2      0  desktop     e3\n",
      "296   1     1    3      0  desktop     e3\n",
      "297   2     2    3      0  desktop     e3\n",
      "298   1     2    3      0  desktop     e2\n",
      "299   2     1    0      0  desktop     e3\n",
      "\n",
      "[300 rows x 6 columns]\n"
     ]
    }
   ],
   "source": [
    "\n",
    "mapping = {'everyday': 0, 'week-end': 1}\n",
    "# Use map() function to replace categories with integers\n",
    "df['pre_t'] = df['pre_t'].map(mapping)\n",
    "\n",
    "print(df)\n"
   ]
  },
  {
   "cell_type": "code",
   "execution_count": 55,
   "id": "b4f05e7a",
   "metadata": {},
   "outputs": [
    {
     "name": "stdout",
     "output_type": "stream",
     "text": [
      "     av  P_av  fre  pre_t  pre_c target\n",
      "0     1     2    2      0      0     e2\n",
      "1     2     0    0      1      1     e1\n",
      "2     1     1    3      1      1     e1\n",
      "3     2     2    3      0      0     e2\n",
      "4     1     1    0      1      1     e2\n",
      "..   ..   ...  ...    ...    ...    ...\n",
      "295   2     1    2      0      0     e3\n",
      "296   1     1    3      0      0     e3\n",
      "297   2     2    3      0      0     e3\n",
      "298   1     2    3      0      0     e2\n",
      "299   2     1    0      0      0     e3\n",
      "\n",
      "[300 rows x 6 columns]\n"
     ]
    }
   ],
   "source": [
    "mapping = {'desktop': 0, 'laptop': 1}\n",
    "# Use map() function to replace categories with integers\n",
    "df['pre_c'] = df['pre_c'].map(mapping)\n",
    "\n",
    "print(df)\n"
   ]
  },
  {
   "cell_type": "code",
   "execution_count": 56,
   "id": "0293739a",
   "metadata": {},
   "outputs": [
    {
     "name": "stdout",
     "output_type": "stream",
     "text": [
      "     av  P_av  fre  pre_t  pre_c  target\n",
      "0     1     2    2      0      0       2\n",
      "1     2     0    0      1      1       1\n",
      "2     1     1    3      1      1       1\n",
      "3     2     2    3      0      0       2\n",
      "4     1     1    0      1      1       2\n",
      "..   ..   ...  ...    ...    ...     ...\n",
      "295   2     1    2      0      0       3\n",
      "296   1     1    3      0      0       3\n",
      "297   2     2    3      0      0       3\n",
      "298   1     2    3      0      0       2\n",
      "299   2     1    0      0      0       3\n",
      "\n",
      "[300 rows x 6 columns]\n"
     ]
    }
   ],
   "source": [
    "mapping = {'e1': 1, 'e2': 2, 'e3': 3}\n",
    "# Use map() function to replace categories with integers\n",
    "df['target'] = df['target'].map(mapping)\n",
    "\n",
    "print(df)"
   ]
  },
  {
   "cell_type": "code",
   "execution_count": 57,
   "id": "97533a5d",
   "metadata": {},
   "outputs": [
    {
     "name": "stdout",
     "output_type": "stream",
     "text": [
      "<class 'pandas.core.frame.DataFrame'>\n",
      "RangeIndex: 300 entries, 0 to 299\n",
      "Data columns (total 6 columns):\n",
      " #   Column  Non-Null Count  Dtype\n",
      "---  ------  --------------  -----\n",
      " 0   av      300 non-null    int64\n",
      " 1   P_av    300 non-null    int64\n",
      " 2   fre     300 non-null    int64\n",
      " 3   pre_t   300 non-null    int64\n",
      " 4   pre_c   300 non-null    int64\n",
      " 5   target  300 non-null    int64\n",
      "dtypes: int64(6)\n",
      "memory usage: 14.2 KB\n"
     ]
    }
   ],
   "source": [
    "df.info()"
   ]
  },
  {
   "cell_type": "code",
   "execution_count": 58,
   "id": "d0961e80",
   "metadata": {},
   "outputs": [],
   "source": [
    "import pandas as pd\n",
    "from sklearn.model_selection import train_test_split\n",
    "\n",
    "# Assuming you have a DataFrame named 'df' containing your data, including the target variable (y)\n",
    "\n",
    "# Separate the features (X) and the target variable (y)\n",
    "X = df.drop(columns=['target'])  # Replace 'target_column' with the actual column name of your target variable\n",
    "y = df['target']  # Replace 'target_column' with the actual column name of your target variable\n",
    "\n",
    "# Split the data into training and testing sets (80% for training, 20% for testing)\n",
    "# 'random_state' is used to ensure reproducibility of the random split\n",
    "X_train, X_test, y_train, y_test = train_test_split(X, y, test_size=0.20, random_state=42)\n",
    "\n",
    "# Now you have your data split into X_train (features for training), X_test (features for testing),\n",
    "# y_train (target variable for training), and y_test (target variable for testing).\n",
    "\n",
    "# You can now use X_train and y_train to train your machine learning model, and then evaluate its performance\n",
    "# using X_test and y_test.\n",
    "\n",
    "\n"
   ]
  },
  {
   "cell_type": "code",
   "execution_count": 59,
   "id": "7e1e0090",
   "metadata": {},
   "outputs": [
    {
     "name": "stdout",
     "output_type": "stream",
     "text": [
      "Accuracy: 0.43333333333333335\n"
     ]
    }
   ],
   "source": [
    "from sklearn.model_selection import train_test_split\n",
    "from sklearn.ensemble import RandomForestClassifier  # For classification tasks\n",
    "# from sklearn.ensemble import RandomForestRegressor  # For regression tasks\n",
    "from sklearn.metrics import accuracy_score \n",
    "from sklearn.preprocessing import StandardScaler\n",
    "\n",
    "\n",
    "# Initialize the StandardScaler\n",
    "scaler = StandardScaler()\n",
    "\n",
    "# Fit and transform the scaler on the training data\n",
    "X_train_scaled = scaler.fit_transform(X_train)\n",
    "\n",
    "# Transform the test data using the scaler fit on the training data\n",
    "X_test_scaled = scaler.transform(X_test)\n",
    "\n",
    "# Initialize the Random Forest classifier\n",
    "model = RandomForestClassifier(n_estimators=100, max_depth=10, random_state=42)\n",
    "\n",
    "# Train the model on the scaled training data\n",
    "model.fit(X_train_scaled, y_train)\n",
    "\n",
    "# Make predictions on the scaled test data\n",
    "y_pred = model.predict(X_test_scaled)\n",
    "\n",
    "# Evaluate the model's performance\n",
    "accuracy = accuracy_score(y_test, y_pred)\n",
    "print(f\"Accuracy: {accuracy}\")"
   ]
  },
  {
   "cell_type": "code",
   "execution_count": 60,
   "id": "2f403737",
   "metadata": {},
   "outputs": [
    {
     "name": "stdout",
     "output_type": "stream",
     "text": [
      "[[ 9  0  5]\n",
      " [ 8  7  8]\n",
      " [ 6  7 10]]\n"
     ]
    }
   ],
   "source": [
    "### confusion matrix \n",
    "\n",
    "## link : https://medium.com/@dtuk81/confusion-matrix-visualization-fc31e3f30fea\n",
    "from sklearn.metrics import confusion_matrix\n",
    "cf_matrix = confusion_matrix(y_test, y_pred)\n",
    "print(cf_matrix)"
   ]
  },
  {
   "cell_type": "code",
   "execution_count": 61,
   "id": "5f387914",
   "metadata": {},
   "outputs": [
    {
     "data": {
      "text/plain": [
       "<Axes: >"
      ]
     },
     "execution_count": 61,
     "metadata": {},
     "output_type": "execute_result"
    },
    {
     "data": {
      "image/png": "[encoded data removed]",
      "text/plain": [
       "<Figure size 640x480 with 2 Axes>"
      ]
     },
     "metadata": {},
     "output_type": "display_data"
    }
   ],
   "source": [
    "import seaborn as sns\n",
    "sns.heatmap(cf_matrix, annot=True)"
   ]
  },
  {
   "cell_type": "code",
   "execution_count": 47,
   "id": "b3ef55c5",
   "metadata": {},
   "outputs": [
    {
     "name": "stdout",
     "output_type": "stream",
     "text": [
      "Collecting xgboost\n",
      "  Downloading xgboost-1.7.6-py3-none-win_amd64.whl (70.9 MB)\n",
      "     ---------------------------------------- 70.9/70.9 MB 1.2 MB/s eta 0:00:00\n",
      "Requirement already satisfied: numpy in c:\\users\\zohai\\anaconda3\\lib\\site-packages (from xgboost) (1.23.5)\n",
      "Requirement already satisfied: scipy in c:\\users\\zohai\\anaconda3\\lib\\site-packages (from xgboost) (1.10.0)\n",
      "Installing collected packages: xgboost\n",
      "Successfully installed xgboost-1.7.6\n"
     ]
    }
   ],
   "source": [
    "!pip install xgboost"
   ]
  },
  {
   "cell_type": "code",
   "execution_count": 67,
   "id": "0747d086",
   "metadata": {},
   "outputs": [],
   "source": [
    "#standarise classes \n",
    "y_train = y_train - 1\n",
    "y_test = y_test-1"
   ]
  },
  {
   "cell_type": "code",
   "execution_count": 68,
   "id": "a93bf1f2",
   "metadata": {},
   "outputs": [
    {
     "name": "stdout",
     "output_type": "stream",
     "text": [
      "Accuracy: 0.38333333333333336\n"
     ]
    }
   ],
   "source": [
    "### exemple xgboost classifer \n",
    "\n",
    "import xgboost as xgb\n",
    "\n",
    "\n",
    "model = xgb.XGBClassifier(learning_rate=0.1, n_estimators=100, max_depth=3, random_state=42)\n",
    "\n",
    "# Train the model on the scaled training data\n",
    "model.fit(X_train_scaled, y_train)\n",
    "\n",
    "# Make predictions on the scaled test data\n",
    "y_pred = model.predict(X_test_scaled)\n",
    "\n",
    "# Evaluate the model's performance\n",
    "accuracy = accuracy_score(y_test, y_pred)\n",
    "print(f\"Accuracy: {accuracy}\")"
   ]
  }
 ],
 "metadata": {
  "kernelspec": {
   "display_name": "Python 3 (ipykernel)",
   "language": "python",
   "name": "python3"
  },
  "language_info": {
   "codemirror_mode": {
    "name": "ipython",
    "version": 3
   },
   "file_extension": ".py",
   "mimetype": "text/x-python",
   "name": "python",
   "nbconvert_exporter": "python",
   "pygments_lexer": "ipython3",
   "version": "3.10.9"
  }
 },
 "nbformat": 4,
 "nbformat_minor": 5
}
